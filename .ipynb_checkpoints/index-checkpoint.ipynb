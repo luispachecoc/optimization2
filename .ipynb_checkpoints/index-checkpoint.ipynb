{
 "cells": [
  {
   "cell_type": "markdown",
   "id": "edee510c-89e3-4d5b-8f82-f19557165f2d",
   "metadata": {
    "jp-MarkdownHeadingCollapsed": true
   },
   "source": [
    "# Exercise 1: The Diet Problem"
   ]
  },
  {
   "cell_type": "markdown",
   "id": "3aef5876-1a0e-466a-9104-35c169ff50f8",
   "metadata": {},
   "source": [
    "We  need to recommend supplement capsules for a person under your care. The daily requirements for five nutrients are as follow for solving through linear programming techniques.\r\n"
   ]
  },
  {
   "cell_type": "markdown",
   "id": "b8764c53-2253-46d3-a7ae-31652a40e192",
   "metadata": {
    "jp-MarkdownHeadingCollapsed": true
   },
   "source": [
    "## Definition of the problem\n",
    "\n",
    "- 60 milligrams of Vitamin C\n",
    "- 1000 milligrams of Calcium\n",
    "- 18 milligrams of Iron\n",
    "- 20 milligrams of Niacin\n",
    "- 360 milligrams of Magnesium\n",
    "\n",
    "### Available Suplements\n",
    "\n",
    "You have two supplement options: **Vega Vita** and **Happy Health**.\n",
    "\n",
    "- **Vega Vita** costs 20 cents per tablet and contains:\n",
    "  - 20 mg of Vitamin C\n",
    "  - 500 mg of Calcium\n",
    "  - 9 mg of Iron\n",
    "  - 2 mg of Niacin\n",
    "  - 60 mg of Magnesium\n",
    "\n",
    "- **Happy Health** costs 30 cents per tablet and contains:\n",
    "  - 30 mg of Vitamin C\n",
    "  - 250 mg of Calcium\n",
    "  - 2 mg of Iron\n",
    "  - 10 mg of Niacin\n",
    "  - 90 mg of Magnesium\n",
    "\n"
   ]
  },
  {
   "cell_type": "markdown",
   "id": "be69f68a-8e90-4578-aa8a-c122a03de12b",
   "metadata": {},
   "source": [
    "## Objective\n",
    "Determine the minimum number of tablets from each type needed to meet daily nutritional requirements at the lowest cost.\n"
   ]
  },
  {
   "cell_type": "code",
   "execution_count": 686,
   "id": "e5b9e936-d0bb-46d1-9d18-bffecb09b6f6",
   "metadata": {},
   "outputs": [
    {
     "name": "stdout",
     "output_type": "stream",
     "text": [
      "Name: PuLP\n",
      "Version: 2.9.0\n",
      "Summary: PuLP is an LP modeler written in python. PuLP can generate MPS or LP files and call GLPK, COIN CLP/CBC, CPLEX, and GUROBI to solve linear problems.\n",
      "Home-page: https://github.com/coin-or/pulp\n",
      "Author: J.S. Roy and S.A. Mitchell and F. Peschiera\n",
      "Author-email: pulp@stuartmitchell.com\n",
      "License: \n",
      "Location: C:\\Users\\Luis\\anaconda3\\Lib\\site-packages\n",
      "Requires: \n",
      "Required-by: Pyfrontier\n"
     ]
    }
   ],
   "source": [
    "!pip show pulp"
   ]
  },
  {
   "cell_type": "code",
   "execution_count": 687,
   "id": "1ca9fb56-e7e8-40ed-9a82-225025570a67",
   "metadata": {},
   "outputs": [],
   "source": [
    "import pulp as pp"
   ]
  },
  {
   "cell_type": "markdown",
   "id": "e6153285-ae78-4797-b71d-f8054d5542b4",
   "metadata": {},
   "source": [
    "Let's start building the optimization model."
   ]
  },
  {
   "cell_type": "code",
   "execution_count": 689,
   "id": "c566b8a0-ed25-4c78-871a-4a4a1ba8b175",
   "metadata": {},
   "outputs": [],
   "source": [
    "model = pp.LpProblem(name='diet-problem', # just the name\n",
    "                     sense=pp.LpMinimize ) # type of problem"
   ]
  },
  {
   "cell_type": "markdown",
   "id": "015af3ab-7917-4683-9512-dcc0812eb376",
   "metadata": {},
   "source": [
    "### Decision Variables\n",
    "Define the following variables:\n",
    "- \\( x_1 \\): Number of **Vega Vita** tablets.\n",
    "- \\( x_2 \\): Number of **Happy Health** tablets."
   ]
  },
  {
   "cell_type": "markdown",
   "id": "131c306e-e19e-4c68-a708-c31cfe28f2ed",
   "metadata": {},
   "source": [
    "We define the variables:"
   ]
  },
  {
   "cell_type": "code",
   "execution_count": 692,
   "id": "30dc2db7-e9b9-436d-bcbe-a25221ce7792",
   "metadata": {},
   "outputs": [],
   "source": [
    "# how much vega?\n",
    "x1 = pp.LpVariable(name=\"vega\",  # just the name\n",
    "                    lowBound=0,  # ensure non-negativity\n",
    "                    cat='Continuous') # here: you accept decimal values\n",
    "\n",
    "# how much happy?\n",
    "x2 = pp.LpVariable(name=\"happy\",\n",
    "                 lowBound=0, \n",
    "                    \n",
    "                 cat='Continuous')"
   ]
  },
  {
   "cell_type": "markdown",
   "id": "98052cc6-a0be-405d-a926-8cb2eafde5cc",
   "metadata": {},
   "source": [
    "### Non-Negativity Conditions\n",
    "$$\n",
    "x_1 \\geq 0, \\quad x_2 \\geq 0\n",
    "$$\n",
    "\n",
    "This setup provides the full mathematical formulation of the problem, ready for solving through linear programming techniques."
   ]
  },
  {
   "cell_type": "markdown",
   "id": "4b5a6709-4a44-4d04-ace5-9821c8f15fc6",
   "metadata": {},
   "source": [
    "### Objective Function (already defined)\n",
    "Minimize the total daily cost of supplements:\n",
    "\n",
    "$$\n",
    "\\text{Total Cost} = 0.20x_1 + 0.30x_2\n",
    "$$\n"
   ]
  },
  {
   "cell_type": "code",
   "execution_count": 695,
   "id": "114f80b2-26bd-4d10-bda1-56c1169e054b",
   "metadata": {},
   "outputs": [],
   "source": [
    "obj_func = x1*0.2 + x2*0.3"
   ]
  },
  {
   "cell_type": "markdown",
   "id": "d9083171-a84c-4bfd-9ad0-6cae92e8d10d",
   "metadata": {},
   "source": [
    "### Constraints\n",
    "Each nutrient must meet or exceed the daily minimum requirement, leading to the following constraints:\n",
    "\n",
    "1. **Vitamin C**: \n",
    "   $$\n",
    "   20x_1 + 30x_2 \\geq 60\n",
    "   $$\n",
    "\n",
    "2. **Calcium**: \n",
    "   $$\n",
    "   500x_1 + 250x_2 \\geq 1000\n",
    "   $$\n",
    "\n",
    "3. **Iron**: \n",
    "   $$\n",
    "   9x_1 + 2x_2 \\geq 18\n",
    "   $$\n",
    "\n",
    "4. **Niacin**: \n",
    "   $$\n",
    "   2x_1 + 10x_2 \\geq 20\n",
    "   $$\n",
    "\n",
    "5. **Magnesium**: \n",
    "   $$\n",
    "   60x_1 + 90x_2 \\geq 360\n",
    "   $$\n"
   ]
  },
  {
   "cell_type": "code",
   "execution_count": 697,
   "id": "5af12079-c4b4-4443-a7cc-435cd6d9c0ba",
   "metadata": {},
   "outputs": [],
   "source": [
    "# SUBJECT TO:\n",
    "C1 = pp.LpConstraint(name='Vitamin_C_Constraint',   \n",
    "                     e= 20 * x1 + 30 * x2, rhs=60, \n",
    "                     sense=pp.LpConstraintGE)  # Vitamin C requirement >= 60 mg\n",
    "\n",
    "C2 = pp.LpConstraint(name='Calcium_Constraint',     \n",
    "                     e= 500 * x1 + 250 * x2, rhs=1000, \n",
    "                     sense=pp.LpConstraintGE)  # Calcium requirement >= 1000 mg\n",
    "\n",
    "C3 = pp.LpConstraint(name='Iron_Constraint',        \n",
    "                     e= 9 * x1 + 2 * x2, rhs=18, \n",
    "                     sense=pp.LpConstraintGE)  # Iron requirement >= 18 mg\n",
    "\n",
    "C4 = pp.LpConstraint(name='Niacin_Constraint',      \n",
    "                     e= 2 * x1 + 10 * x2, rhs=20, \n",
    "                     sense=pp.LpConstraintGE)  # Niacin requirement >= 20 mg\n",
    "\n",
    "C5 = pp.LpConstraint(name='Magnesium_Constraint',   \n",
    "                     e= 60 * x1 + 90 * x2, rhs=360, \n",
    "                     sense=pp.LpConstraintGE)  # Magnesium requirement >= 360 mg"
   ]
  },
  {
   "cell_type": "markdown",
   "id": "db033741-5667-4ec0-b65f-15650e8f7942",
   "metadata": {},
   "source": [
    "### We build the model:"
   ]
  },
  {
   "cell_type": "code",
   "execution_count": 699,
   "id": "16ac218f-61b4-470b-a44f-9a277ac314e0",
   "metadata": {},
   "outputs": [],
   "source": [
    "# Add constraints to the problem\n",
    "model += obj_func\n",
    "model += C1\n",
    "model += C2\n",
    "model += C3\n",
    "model += C4\n",
    "model += C5"
   ]
  },
  {
   "cell_type": "markdown",
   "id": "887ae4d6-02db-49ae-87a0-e67b10262b7b",
   "metadata": {},
   "source": [
    "### We solve the model:"
   ]
  },
  {
   "cell_type": "code",
   "execution_count": 701,
   "id": "084ebf21-cf90-4f11-b448-3c356fb9a246",
   "metadata": {},
   "outputs": [
    {
     "name": "stdout",
     "output_type": "stream",
     "text": [
      "['GLPK_CMD', 'PYGLPK', 'CPLEX_CMD', 'CPLEX_PY', 'GUROBI', 'GUROBI_CMD', 'MOSEK', 'XPRESS', 'XPRESS', 'XPRESS_PY', 'PULP_CBC_CMD', 'COIN_CMD', 'COINMP_DLL', 'CHOCO_CMD', 'MIPCL_CMD', 'SCIP_CMD', 'FSCIP_CMD', 'SCIP_PY', 'HiGHS', 'HiGHS_CMD', 'COPT', 'COPT_DLL', 'COPT_CMD']\n"
     ]
    }
   ],
   "source": [
    "solver_list = pp.listSolvers()\n",
    "print(solver_list)"
   ]
  },
  {
   "cell_type": "code",
   "execution_count": 702,
   "id": "7fe6c1af-ffa2-4eb9-921b-b7c23d8f6e90",
   "metadata": {},
   "outputs": [
    {
     "data": {
      "text/plain": [
       "1"
      ]
     },
     "execution_count": 702,
     "metadata": {},
     "output_type": "execute_result"
    }
   ],
   "source": [
    "model.solve() #there is one solution"
   ]
  },
  {
   "cell_type": "code",
   "execution_count": 703,
   "id": "de6e224e-cee7-4e64-8749-0dc6b69c472f",
   "metadata": {},
   "outputs": [
    {
     "name": "stdout",
     "output_type": "stream",
     "text": [
      "        Description     Value\n",
      "0      Model Status   Optimal\n",
      "1  Optimal Solution       1.2\n",
      "2             happy  3.130435\n",
      "3              vega  1.304348\n"
     ]
    }
   ],
   "source": [
    "# Compile results into a dictionary\n",
    "Results = {\n",
    "    \"Model Status\": pp.LpStatus[model.status],\n",
    "    \"Optimal Solution\": pp.value(model.objective)\n",
    "}\n",
    "Results.update({v.name: v.varValue for v in model.variables()})\n",
    "\n",
    "# Convert results to a DataFrame for easy display\n",
    "results_df = pd.DataFrame(list(Results.items()), columns=[\"Description\", \"Value\"])\n",
    "print(results_df)"
   ]
  },
  {
   "cell_type": "markdown",
   "id": "4bc53f53-39bc-41d3-ad7b-d09355b7aa1f",
   "metadata": {},
   "source": [
    "### Explanation\n",
    "\n",
    "- **Model Status**: The model status is \"Optimal,\" which means that the solution found meets the nutritional requirements at the lowest possible cost.\n",
    "- **Optimal Solution (Total Cost)**: The minimum daily cost of meeting the nutrient requirements with the two supplements is $1.20.\n",
    "- **Tablet Quantities**:\n",
    "  - **happy**: 3.13 tablets of the \"Happy\" supplement are needed.\n",
    "  - **vega**: 1.30 tablets of the \"Vega\" supplement are needed.\n",
    "\n",
    "### Interpretation\n",
    "\n",
    "These values indicate the precise number of tablets for each supplement required to meet the daily nutritional needs at the lowest cost. Although partial tablets are shown in the solution, they may need rounding based on practical constraints, while ensuring all nutritional requirements are still met."
   ]
  },
  {
   "cell_type": "markdown",
   "id": "3f6bda34-8565-4aa5-88b2-c31097a2372d",
   "metadata": {
    "jp-MarkdownHeadingCollapsed": true
   },
   "source": [
    "# Exercise 2: Bus Driver Scheduling Problem"
   ]
  },
  {
   "cell_type": "markdown",
   "id": "02fb270d-2c8c-4c87-81f8-cd7bf0ce9c61",
   "metadata": {},
   "source": [
    "## Definition of the problem\n",
    "\r\n",
    "The city transportation manager needs to schedule bus drivers to meet the following historical demand:\r\n",
    "\r\n",
    "| Shift                 | Demand |\r\n",
    "|-----------------------|--------|\r\n",
    "| From midnight to 4 am | 4      |\r\n",
    "| From 4 am to 8 am     | 8      |\r\n",
    "| From 8 am to 12 pm    | 10     |\r\n",
    "| From 12 pm to 4 pm    | 7      |\r\n",
    "| From 4 pm to 8 pm     | 12     |\r\n",
    "| From 8 pm to midnight | 4      |\r\n",
    "\r\n",
    "### Objective\r\n",
    "Minimize the number of drivers required at the start of each shift to meet the demand while adhering to the following conditions:\r\n",
    "- Drivers work eight-hour shifts.\r\n",
    "- Shifts start at times 0, 4, 8, 12, 16, or 20.\r\n",
    "  - A driver starting at time 0 can work from 0 to 8.\r\n",
    "  - A driver starting at time 20 will work the last four hours of one day and the first four hours of the next day.\r\n",
    "- A driver does not need to drive continuously for the full eight hours; they may be idle for part of the shifn of the problem, ready for solving through linear programming techniques.\r\n"
   ]
  },
  {
   "cell_type": "markdown",
   "id": "ef1a47ee-aabd-414f-8ac8-80410c6959f4",
   "metadata": {},
   "source": [
    "### Decision Variables\n",
    "We define the following variables:\n",
    "- \\( x_0 \\): Number of drivers starting at midnight (0:00).\n",
    "- \\( x_4 \\): Number of drivers starting at 4 am.\n",
    "- \\( x_8 \\): Number of drivers starting at 8 am.\n",
    "- \\( x_12 \\): Number of drivers starting at 12 pm.\n",
    "- \\( x_16 \\): Number of drivers starting at 4 pm.\n",
    "- \\( x_20 \\): Number of drivers starting at 8 pm."
   ]
  },
  {
   "cell_type": "markdown",
   "id": "f91a7efb-7e4e-4b0c-b137-8da202b01cf9",
   "metadata": {},
   "source": [
    "Let's start building the optimization model"
   ]
  },
  {
   "cell_type": "code",
   "execution_count": 709,
   "id": "2fc0b418-816e-4e52-9fd4-209c606d6ea4",
   "metadata": {},
   "outputs": [],
   "source": [
    "import pulp as pp\n",
    "import pandas as pd\n",
    "model2 = pp.LpProblem(\"Driver_Scheduling_Minimization\", pp.LpMinimize) #minimize"
   ]
  },
  {
   "cell_type": "markdown",
   "id": "02fbd7c4-9496-4660-99b1-6900d0c82175",
   "metadata": {},
   "source": [
    "### Objective Function\n",
    "Minimize the total number of drivers:\n",
    "\n",
    "$$\n",
    "\\text{Total Drivers} = x_{0} + x_{4} + x_{8} + x_{12} + x_{16} + x_{20}\n",
    "$$"
   ]
  },
  {
   "cell_type": "markdown",
   "id": "41b693a5-40fd-488f-b76c-b7dad9422171",
   "metadata": {},
   "source": [
    "We define the variables:"
   ]
  },
  {
   "cell_type": "code",
   "execution_count": 712,
   "id": "ff7e2670-c930-4759-ae53-6ad0541b119a",
   "metadata": {},
   "outputs": [],
   "source": [
    "\n",
    "# Define decision variables\n",
    "y0 = pp.LpVariable(name=\"drivers_midnight\", lowBound=0, cat='Continuous')\n",
    "y4 = pp.LpVariable(name=\"drivers_4am\", lowBound=0, cat='Continuous')\n",
    "y8 = pp.LpVariable(name=\"drivers_8am\", lowBound=0, cat='Continuous')\n",
    "y12 = pp.LpVariable(name=\"drivers_12pm\", lowBound=0, cat='Continuous')\n",
    "y16 = pp.LpVariable(name=\"drivers_4pm\", lowBound=0, cat='Continuous')\n",
    "y20 = pp.LpVariable(name=\"drivers_8pm\", lowBound=0, cat='Continuous')"
   ]
  },
  {
   "cell_type": "code",
   "execution_count": 713,
   "id": "bc5b9c2b-72b7-463b-bb29-d9081942206c",
   "metadata": {},
   "outputs": [],
   "source": [
    "\n",
    "# Define the objective function (minimize total drivers)\n",
    "obj_func2 = y0 + y4 + y8 + y12 + y16 + y20"
   ]
  },
  {
   "cell_type": "markdown",
   "id": "729bd037-4b32-4d5e-ab06-e8cfba32309e",
   "metadata": {},
   "source": [
    "### Non-Negativity Conditions (already defined)\n",
    "$$\n",
    "x_{0} \\geq 0, \\quad x_{4} \\geq 0, \\quad x_{8} \\geq 0, \\quad x_{12} \\geq 0, \\quad x_{16} \\geq 0, \\quad x_{20} \\geq 0\n",
    "$$\n"
   ]
  },
  {
   "cell_type": "markdown",
   "id": "d3ad8738-f52d-4d4a-8b17-b6c8e47d84f3",
   "metadata": {},
   "source": [
    "### Constraints\n",
    "Each time period must meet or exceed the required demand:\n",
    "\n",
    "1. **Midnight to 4 am**: \n",
    "   $$\n",
    "   x_{0} + x_{20} \\geq 4\n",
    "   $$\n",
    "\n",
    "2. **4 am to 8 am**: \n",
    "   $$\n",
    "   x_{0} + x_{4} + x_{20} \\geq 8\n",
    "   $$\n",
    "\n",
    "3. **8 am to 12 pm**: \n",
    "   $$\n",
    "   x_{4} + x_{8} \\geq 10\n",
    "   $$\n",
    "\n",
    "4. **12 pm to 4 pm**: \n",
    "   $$\n",
    "   x_{8} + x_{12} \\geq 7\n",
    "   $$\n",
    "\n",
    "5. **4 pm to 8 pm**: \n",
    "   $$\n",
    "   x_{12} + x_{16} \\geq 12\n",
    "   $$\n",
    "\n",
    "6. **8 pm to midnight**: \n",
    "   $$\n",
    "   x_{16} + x_{20} \\geq 4\n",
    "   $$\n",
    "\n"
   ]
  },
  {
   "cell_type": "code",
   "execution_count": 716,
   "id": "3c126c88-8e36-4c58-8f3b-8e6085e2f27b",
   "metadata": {},
   "outputs": [],
   "source": [
    "# Define constraints with labels B1, B2, etc.\n",
    "B1 = pp.LpConstraint(name='Midnight_to_4am_Constraint',   \n",
    "                     e= y0 + y20, rhs=4, \n",
    "                     sense=pp.LpConstraintGE)  # Demand from midnight to 4 am >= 4 drivers\n",
    "\n",
    "B2 = pp.LpConstraint(name='4am_to_8am_Constraint',     \n",
    "                     e= y0 + y4 + y20, rhs=8, \n",
    "                     sense=pp.LpConstraintGE)  # Demand from 4 am to 8 am >= 8 drivers\n",
    "\n",
    "B3 = pp.LpConstraint(name='8am_to_12pm_Constraint',        \n",
    "                     e= y4 + y8, rhs=10, \n",
    "                     sense=pp.LpConstraintGE)  # Demand from 8 am to 12 pm >= 10 drivers\n",
    "\n",
    "B4 = pp.LpConstraint(name='12pm_to_4pm_Constraint',      \n",
    "                     e= y8 + y12, rhs=7, \n",
    "                     sense=pp.LpConstraintGE)  # Demand from 12 pm to 4 pm >= 7 drivers\n",
    "\n",
    "B5 = pp.LpConstraint(name='4pm_to_8pm_Constraint',   \n",
    "                     e= y12 + y16, rhs=12, \n",
    "                     sense=pp.LpConstraintGE)  # Demand from 4 pm to 8 pm >= 12 drivers\n",
    "\n",
    "B6 = pp.LpConstraint(name='8pm_to_Midnight_Constraint',   \n",
    "                     e= y16 + y20, rhs=4, \n",
    "                     sense=pp.LpConstraintGE)  # Demand from 8 pm to midnight >= 4 drivers\n"
   ]
  },
  {
   "cell_type": "markdown",
   "id": "565cb63c-ce13-4421-bbcf-d9308f2f213a",
   "metadata": {},
   "source": [
    "### We build the model:"
   ]
  },
  {
   "cell_type": "code",
   "execution_count": 718,
   "id": "2e5cec13-37d8-421e-b31e-553571c0e8f7",
   "metadata": {},
   "outputs": [],
   "source": [
    "\n",
    "# Add the objective function to model2\n",
    "model2 += obj_func2, \"Total_Drivers\"\n",
    "\n",
    "# Add constraints to the model\n",
    "model2 += B1\n",
    "model2 += B2\n",
    "model2 += B3\n",
    "model2 += B4\n",
    "model2 += B5\n",
    "model2 += B6"
   ]
  },
  {
   "cell_type": "markdown",
   "id": "3604e377-df42-45c0-b8e7-22db35284003",
   "metadata": {},
   "source": [
    "### We solve the model:"
   ]
  },
  {
   "cell_type": "code",
   "execution_count": 720,
   "id": "c88dd19c-4a57-4877-9400-7c40d63c3c23",
   "metadata": {},
   "outputs": [
    {
     "name": "stdout",
     "output_type": "stream",
     "text": [
      "                        Description    Value\n",
      "0                      Model Status  Optimal\n",
      "1  Optimal Solution (Total Drivers)     26.0\n",
      "2                      drivers_12pm      7.0\n",
      "3                       drivers_4am     10.0\n",
      "4                       drivers_4pm      5.0\n",
      "5                       drivers_8am      0.0\n",
      "6                       drivers_8pm      0.0\n",
      "7                  drivers_midnight      4.0\n"
     ]
    }
   ],
   "source": [
    "# Solve the model\n",
    "model2.solve(pp.PULP_CBC_CMD())  # Using CBC solver explicitly\n",
    "\n",
    "# Compile results into a dictionary\n",
    "Results2 = {\n",
    "    \"Model Status\": pp.LpStatus[model2.status],\n",
    "    \"Optimal Solution (Total Drivers)\": pp.value(model2.objective)\n",
    "}\n",
    "Results2.update({v.name: v.varValue for v in model2.variables()})\n",
    "\n",
    "# Convert results to a DataFrame for easy display\n",
    "results2_df = pd.DataFrame(list(Results2.items()), columns=[\"Description\", \"Value\"])\n",
    "print(results2_df)"
   ]
  },
  {
   "cell_type": "markdown",
   "id": "ec65c6fb-7523-499b-9c5c-eb4d504758a1",
   "metadata": {},
   "source": [
    "### Explanation\n",
    "\n",
    "- **Model Status**: The model status is \"Optimal,\" indicating that a feasible and optimal solution was found for the problem.\n",
    "- **Optimal Solution (Total Drivers)**: The total minimum number of drivers required to meet the demand across all shifts is 26.\n",
    "- **Shift Assignments**:\n",
    "  - **drivers_12pm**: 7 drivers are needed starting at 12 pm.\n",
    "  - **drivers_4am**: 10 drivers are required to start at 4 am.\n",
    "  - **drivers_4pm**: 5 drivers should start at 4 pm.\n",
    "  - **drivers_8am**: No drivers are needed to start at 8 am.\n",
    "  - **drivers_8pm**: No drivers are needed to start at 8 pm.\n",
    "  - **drivers_midnight**: 4 drivers are needed starting at midnight.\n"
   ]
  },
  {
   "cell_type": "markdown",
   "id": "90827e3b-a3c4-4210-8623-621d74a4ce6a",
   "metadata": {
    "jp-MarkdownHeadingCollapsed": true
   },
   "source": [
    "# Exercise 3: Choosing a country for a Master Program"
   ]
  },
  {
   "cell_type": "markdown",
   "id": "7eca1142-8df0-4cc7-9d61-d14c380e120f",
   "metadata": {},
   "source": [
    "1. Prepare data file with the comparissons adn get the data:"
   ]
  },
  {
   "cell_type": "code",
   "execution_count": 898,
   "id": "eba35b46-d7b3-4149-8bce-2b947260ef3d",
   "metadata": {},
   "outputs": [],
   "source": [
    "import pandas as pd\n",
    "\n",
    "# Lee el archivo Excel\n",
    "master = \"comparison.xlsx\""
   ]
  },
  {
   "cell_type": "markdown",
   "id": "5969c6b1-832a-4462-b45c-c5914d3f9685",
   "metadata": {},
   "source": [
    "2. Open each sheet:"
   ]
  },
  {
   "cell_type": "code",
   "execution_count": 900,
   "id": "37ccff26-f00c-4b19-90c8-72f99fc06e49",
   "metadata": {},
   "outputs": [],
   "source": [
    "# opening the comparissons\n",
    "\n",
    "pairwise_cost=pd.read_excel(master,sheet_name='cost', index_col=0)\n",
    "pairwise_language=pd.read_excel(master,sheet_name='language', index_col=0)\n",
    "pairwise_employ=pd.read_excel(master,sheet_name='employ', index_col=0)\n",
    "pairwise_criteria=pd.read_excel(master,sheet_name='criteria', index_col=0)\n"
   ]
  },
  {
   "cell_type": "markdown",
   "id": "9f4dc69e-039d-4307-9e47-71c36eef71f8",
   "metadata": {},
   "source": [
    "we may want to check the structure:"
   ]
  },
  {
   "cell_type": "code",
   "execution_count": 902,
   "id": "c0eab964-b9f3-410a-9c97-2d25c96cfb16",
   "metadata": {},
   "outputs": [
    {
     "data": {
      "text/html": [
       "<div>\n",
       "<style scoped>\n",
       "    .dataframe tbody tr th:only-of-type {\n",
       "        vertical-align: middle;\n",
       "    }\n",
       "\n",
       "    .dataframe tbody tr th {\n",
       "        vertical-align: top;\n",
       "    }\n",
       "\n",
       "    .dataframe thead th {\n",
       "        text-align: right;\n",
       "    }\n",
       "</style>\n",
       "<table border=\"1\" class=\"dataframe\">\n",
       "  <thead>\n",
       "    <tr style=\"text-align: right;\">\n",
       "      <th></th>\n",
       "      <th>cost</th>\n",
       "      <th>language</th>\n",
       "      <th>employ</th>\n",
       "    </tr>\n",
       "    <tr>\n",
       "      <th>criteria</th>\n",
       "      <th></th>\n",
       "      <th></th>\n",
       "      <th></th>\n",
       "    </tr>\n",
       "  </thead>\n",
       "  <tbody>\n",
       "    <tr>\n",
       "      <th>cost</th>\n",
       "      <td>1</td>\n",
       "      <td>0.25</td>\n",
       "      <td>0.166667</td>\n",
       "    </tr>\n",
       "    <tr>\n",
       "      <th>language</th>\n",
       "      <td>4</td>\n",
       "      <td>1.00</td>\n",
       "      <td>0.333333</td>\n",
       "    </tr>\n",
       "    <tr>\n",
       "      <th>employ</th>\n",
       "      <td>6</td>\n",
       "      <td>3.00</td>\n",
       "      <td>1.000000</td>\n",
       "    </tr>\n",
       "  </tbody>\n",
       "</table>\n",
       "</div>"
      ],
      "text/plain": [
       "          cost  language    employ\n",
       "criteria                          \n",
       "cost         1      0.25  0.166667\n",
       "language     4      1.00  0.333333\n",
       "employ       6      3.00  1.000000"
      ]
     },
     "execution_count": 902,
     "metadata": {},
     "output_type": "execute_result"
    }
   ],
   "source": [
    "pairwise_criteria"
   ]
  },
  {
   "cell_type": "markdown",
   "id": "6ba8c0fc-c67a-4733-b17e-e1011e395e60",
   "metadata": {},
   "source": [
    "3. Transform all matrices into pairwise comparissons:"
   ]
  },
  {
   "cell_type": "code",
   "execution_count": 904,
   "id": "b1fcfe3b-2e25-40b6-a19c-614fe7a1aa5f",
   "metadata": {},
   "outputs": [],
   "source": [
    "import networkx as nx\n",
    "\n",
    "G_cost = nx.from_pandas_adjacency(pairwise_cost,create_using=nx.MultiDiGraph())\n",
    "G_language = nx.from_pandas_adjacency(pairwise_language, create_using=nx.MultiDiGraph())\n",
    "G_employ = nx.from_pandas_adjacency(pairwise_employ, create_using=nx.MultiDiGraph())"
   ]
  },
  {
   "cell_type": "code",
   "execution_count": 906,
   "id": "251866c3-bc6f-43f4-ae7b-6dc5ae64761a",
   "metadata": {},
   "outputs": [],
   "source": [
    "# comparissons for cost as dict\n",
    "cost_comparisons ={(e[0],e[1]):e[2]['weight'] for e in G_cost.edges(data=True) if e[0]!= e[1]}\n",
    "language_comparisons = {(e[0], e[1]): e[2]['weight'] for e in G_language.edges(data=True) if e[0] != e[1]}\n",
    "employ_comparisons = {(e[0], e[1]): e[2]['weight'] for e in G_employ.edges(data=True) if e[0] != e[1]}"
   ]
  },
  {
   "cell_type": "code",
   "execution_count": 908,
   "id": "8af5e451-5a14-4403-8101-944744bc37ab",
   "metadata": {},
   "outputs": [
    {
     "data": {
      "text/plain": [
       "[{('Brazil', 'Spain'): 0.3333333333333333,\n",
       "  ('Brazil', 'Germany'): 0.2,\n",
       "  ('Brazil', 'USA'): 0.1428571428571428,\n",
       "  ('Spain', 'Brazil'): 3.0,\n",
       "  ('Spain', 'Germany'): 0.25,\n",
       "  ('Spain', 'USA'): 0.1666666666666667,\n",
       "  ('Germany', 'Brazil'): 5.0,\n",
       "  ('Germany', 'Spain'): 4.0,\n",
       "  ('Germany', 'USA'): 0.3333333333333333,\n",
       "  ('USA', 'Brazil'): 7.0,\n",
       "  ('USA', 'Spain'): 6.0,\n",
       "  ('USA', 'Germany'): 3.0},\n",
       " {('Brazil', 'Spain'): 0.5,\n",
       "  ('Brazil', 'Germany'): 0.1428571428571428,\n",
       "  ('Brazil', 'USA'): 0.25,\n",
       "  ('Spain', 'Brazil'): 2.0,\n",
       "  ('Spain', 'Germany'): 0.1111111111111111,\n",
       "  ('Spain', 'USA'): 0.1666666666666667,\n",
       "  ('Germany', 'Brazil'): 7.0,\n",
       "  ('Germany', 'Spain'): 9.0,\n",
       "  ('Germany', 'USA'): 0.3333333333333333,\n",
       "  ('USA', 'Brazil'): 4.0,\n",
       "  ('USA', 'Spain'): 6.0,\n",
       "  ('USA', 'Germany'): 3.0},\n",
       " {('Brazil', 'Spain'): 2.0,\n",
       "  ('Brazil', 'Germany'): 5.0,\n",
       "  ('Brazil', 'USA'): 7.0,\n",
       "  ('Spain', 'Brazil'): 0.5,\n",
       "  ('Spain', 'Germany'): 3.0,\n",
       "  ('Spain', 'USA'): 5.0,\n",
       "  ('Germany', 'Brazil'): 0.2,\n",
       "  ('Germany', 'Spain'): 0.3333333333333333,\n",
       "  ('Germany', 'USA'): 0.25,\n",
       "  ('USA', 'Brazil'): 0.1428571428571428,\n",
       "  ('USA', 'Spain'): 0.2,\n",
       "  ('USA', 'Germany'): 4.0}]"
      ]
     },
     "execution_count": 908,
     "metadata": {},
     "output_type": "execute_result"
    }
   ],
   "source": [
    "# take a look\n",
    "[cost_comparisons, language_comparisons,employ_comparisons,]"
   ]
  },
  {
   "cell_type": "code",
   "execution_count": 910,
   "id": "a02bfce3-d875-4140-81a1-b6de9c61709d",
   "metadata": {},
   "outputs": [
    {
     "data": {
      "text/plain": [
       "{('cost', 'language'): 0.25,\n",
       " ('cost', 'employ'): 0.1666666666666667,\n",
       " ('language', 'cost'): 4.0,\n",
       " ('language', 'employ'): 0.3333333333333333,\n",
       " ('employ', 'cost'): 6.0,\n",
       " ('employ', 'language'): 3.0}"
      ]
     },
     "execution_count": 910,
     "metadata": {},
     "output_type": "execute_result"
    }
   ],
   "source": [
    "# now the criteria\n",
    "\n",
    "G_CRIT = nx.from_pandas_adjacency(pairwise_criteria,create_using=nx.MultiDiGraph())\n",
    "criteria_comparisons ={(e[0],e[1]):e[2]['weight'] for e in G_CRIT.edges(data=True) if e[0]!= e[1]}\n",
    "criteria_comparisons"
   ]
  },
  {
   "cell_type": "markdown",
   "id": "f5cfef04-c5c8-4a3f-b3f5-191059af5893",
   "metadata": {},
   "source": [
    "4. Apply the Algorithm"
   ]
  },
  {
   "cell_type": "code",
   "execution_count": null,
   "id": "bcffb712-ee5a-4eb0-a600-d30f8ba58404",
   "metadata": {},
   "outputs": [],
   "source": [
    "## install\n",
    "!pip install ahpy"
   ]
  },
  {
   "cell_type": "code",
   "execution_count": 912,
   "id": "25d30aa7-4e31-4f88-a683-a3163e929834",
   "metadata": {},
   "outputs": [],
   "source": [
    "# input each comparisson\n",
    "\n",
    "import ahpy\n",
    "\n",
    "cost = ahpy.Compare('cost', cost_comparisons, precision=3, random_index='saaty')\n",
    "language = ahpy.Compare('language', language_comparisons, precision=3, random_index='saaty')\n",
    "employ = ahpy.Compare('employ', employ_comparisons, precision=3, random_index='saaty')\n",
    "criteria = ahpy.Compare('criteria', criteria_comparisons, precision=3, random_index='saaty')"
   ]
  },
  {
   "cell_type": "markdown",
   "id": "4fe61d96-456f-4b48-9b6d-97e09d55dcb0",
   "metadata": {},
   "source": [
    "5. Create hierarchy:"
   ]
  },
  {
   "cell_type": "code",
   "execution_count": 914,
   "id": "71d737c2-4d58-46d9-98ba-6f18234a11f8",
   "metadata": {},
   "outputs": [],
   "source": [
    "criteria.add_children([cost, language, employ])"
   ]
  },
  {
   "cell_type": "markdown",
   "id": "e44153b0-c68f-4cf2-8ff7-244ced46b5df",
   "metadata": {},
   "source": [
    "6. See results"
   ]
  },
  {
   "cell_type": "code",
   "execution_count": 916,
   "id": "a9c969e5-1410-490a-ba0e-094d631b5801",
   "metadata": {},
   "outputs": [
    {
     "name": "stdout",
     "output_type": "stream",
     "text": [
      "{'Brazil': 0.351, 'USA': 0.261, 'Spain': 0.223, 'Germany': 0.165}\n"
     ]
    }
   ],
   "source": [
    "print(criteria.target_weights)"
   ]
  },
  {
   "cell_type": "markdown",
   "id": "1e207032-6def-47c2-9e38-8fd8a9100fe5",
   "metadata": {},
   "source": [
    "### Interpretación de Resultados de `criteria.target_weights`\r\n",
    "\r\n",
    "Los resultados de `criteria.target_weights` muestran las preferencias finales por país al combinar tres criterios: **costo de vida** (`cost`), **dificultad del idioma** (`language`) y **posibilidades de empleo** (`employ`). Estos valores representan la prioridad relativa de cada país al considerar estos tres factores en conjunto.\r\n",
    "\r\n",
    "#### Interpretación de los valores obtenidos:\r\n",
    "\r\n",
    "- **Brasil (0.351)**: Es el país más preferido según los criterios de costo de vida, facilidad del idioma y posibilidad de empleo, con una prioridad del 35.1%. Esto sugiere que, en general, Brasil ofrece la combinación más favorable de estos factores para la decisión que se está evaluando.\r\n",
    "\r\n",
    "- **EE. UU. (0.261)**: Le sigue en preferencia, con una ponderación del 26.1%. Aunque no es tan favorable como Brasil en la combinación de los tres criterios, sigue siendo una opción importante en la evaluación.\r\n",
    "\r\n",
    "- **España (0.223)**: Con una prioridad del 22.3%, España es menos preferida que Brasil y EE. UU., pero sigue siendo una opción viable, especialmente si algunos factores (como el idioma) son favorables para el contexto.\r\n",
    "\r\n",
    "- **Alemania (0.165)**: Es el país menos preferido en esta evaluación, con una prioridad de 16.5%. Esto indica que, considerando el costo de vida, la dificultad del idioma y las oportunidades de empleo, Alemania ofrece la combinación menos favorable en comparación con los otros paEntonces\r\n",
    "#### Resumen:\r\n",
    "Este análisis sugiere que, al equilibrar los factores de **costo de vida**, **dificultad del idioma** y **empleabilidad**, Brasil es la mejor opción, seguido por EE. UU. y España, mientras que Alemania es la opción menos favorable. Este tipo de resultado es útil para tomar decisiones sobre dónde establecerse o enfocar oportunidades, basándose en las prioridades establecidas en cada criterio.\r\n"
   ]
  },
  {
   "cell_type": "markdown",
   "id": "db119115-895f-494a-afce-a92d77610d08",
   "metadata": {},
   "source": [
    "7. Assess consistency"
   ]
  },
  {
   "cell_type": "code",
   "execution_count": 919,
   "id": "b9523fd8-ac6e-4f7a-b0ce-b485b41ca926",
   "metadata": {},
   "outputs": [
    {
     "data": {
      "text/plain": [
       "[('cost', 0.065), ('language', 0.174), ('employ', 0.167), ('criteria', 0.052)]"
      ]
     },
     "execution_count": 919,
     "metadata": {},
     "output_type": "execute_result"
    }
   ],
   "source": [
    "## We should review comparissons if greater than 0.1!\n",
    "[(val.name,val.consistency_ratio) for val in [cost, language, employ, criteria]]"
   ]
  },
  {
   "cell_type": "markdown",
   "id": "9627a375-9299-4376-bd67-6a4c52be68fa",
   "metadata": {},
   "source": [
    "### Interpretación de los Índices de Consistencia de Comparaciones\r\n",
    "\r\n",
    "La salida obtenida de los índices de consistencia muestra qué tan consistentes son las comparaciones de cada criterio en el proceso de análisis jerárquico (AHP). Un índice de consistencia superior a 0.1 indica que las comparaciones pueden no ser consistentes y, por lo tanto, podría ser necesario revisarlas para mejorar la coherencia de los resultados.\r\n",
    "\r\n",
    "#### Resultados de Consistencia:\r\n",
    "\r\n",
    "- **Cost (`cost`, 0.065)**: La consistencia es adecuada, con un valor de 0.065, que está por debajo del umbral de 0.1. Esto indica que las comparaciones de costo de vida son consistentes y no requieren revisión.\r\n",
    "\r\n",
    "- **Language (`language`, 0.174)**: El índice de consistencia es 0.174, lo cual supera el umbral de 0.1. Esto sugiere que las comparaciones en términos de dificultad del idioma no son completamente consistentes y podrían necesitar revisión para garantizar una mejor precisión en el análisis.\r\n",
    "\r\n",
    "- **Employ (`employ`, 0.167)**: Similar al criterio anterior, el índice de consistencia es 0.167, que también excede el umbral. Esto indica una falta de consistencia en las comparaciones de posibilidades de empleo, lo que sugiere la necesidad de revisar estas comparaciones.\r\n",
    "\r\n",
    "- **Criteria (`criteria`, 0.052)**: El índice de consistencia es 0.052, lo que está bien por debajo del umbral. Esto indica que las comparaciones entre los criterios generales son consistentes y no requieren ajuste.\r\n",
    "\r\n",
    "#### Conclusión\r\n",
    "\r\n",
    "Los criterios de **dificultad del idioma (`language`)** y **posibilidades de empleo (`employ`)** tienen índices de consistencia superiores a 0.1, lo que indica una falta de consistencia en las comparaciones. Sería recomendable revisar estos dos criterios para asegurarse de que las evaluaciones sean más coherentes, lo cual puede mejorar la precisión del análisis AHP. Los criterios **costo de vida (`cost`)** y **comparación general de criterios (`criteria`)** son consistentes y no requieren cambios.\r\n"
   ]
  },
  {
   "cell_type": "markdown",
   "id": "07eb7824-47bb-4685-95c1-eaa9c81ed6f7",
   "metadata": {},
   "source": [
    "# Exercise 4: Efficiency in Public sectorency."
   ]
  },
  {
   "cell_type": "code",
   "execution_count": null,
   "id": "26624464-58f2-40e9-8046-ce6de81680b0",
   "metadata": {},
   "outputs": [],
   "source": []
  }
 ],
 "metadata": {
  "kernelspec": {
   "display_name": "Python 3 (ipykernel)",
   "language": "python",
   "name": "python3"
  },
  "language_info": {
   "codemirror_mode": {
    "name": "ipython",
    "version": 3
   },
   "file_extension": ".py",
   "mimetype": "text/x-python",
   "name": "python",
   "nbconvert_exporter": "python",
   "pygments_lexer": "ipython3",
   "version": "3.12.3"
  }
 },
 "nbformat": 4,
 "nbformat_minor": 5
}
